{
 "cells": [
  {
   "cell_type": "code",
   "execution_count": 1,
   "metadata": {},
   "outputs": [],
   "source": [
    "# Apuntes para fortalecer conocimientos y aprender nuevos conocimientos de \n",
    "# Análisis de Datos y Python en General"
   ]
  },
  {
   "cell_type": "code",
   "execution_count": 2,
   "metadata": {
    "scrolled": false
   },
   "outputs": [
    {
     "name": "stdout",
     "output_type": "stream",
     "text": [
      "a is <class 'float'>, b is <class 'int'>\n"
     ]
    },
    {
     "data": {
      "text/plain": [
       "1.35"
      ]
     },
     "execution_count": 2,
     "metadata": {},
     "output_type": "execute_result"
    }
   ],
   "source": [
    "# Formateando Strings\n",
    "a = 5.4\n",
    "b = 4\n",
    "print('a is {0}, b is {1}'.format(type(a),type(b)))\n",
    "a/b"
   ]
  },
  {
   "cell_type": "code",
   "execution_count": 3,
   "metadata": {},
   "outputs": [
    {
     "data": {
      "text/plain": [
       "False"
      ]
     },
     "execution_count": 3,
     "metadata": {},
     "output_type": "execute_result"
    }
   ],
   "source": [
    "# Conocer el type del objeto es muy importante, podemos usar para concerlo el metodo #isinstance()\n",
    "a = 5\n",
    "isinstance(a, int)\n",
    "\n",
    "# isistance puede aceptar una tupla de types por si quieres comprobar si esa tupla corresponde\n",
    "# a un cierto tipo de valores\n",
    "a = 5; b = 4.5\n",
    "isinstance(a,(float,str))\n"
   ]
  },
  {
   "cell_type": "code",
   "execution_count": 4,
   "metadata": {},
   "outputs": [
    {
     "data": {
      "text/plain": [
       "<function str.split(sep=None, maxsplit=-1)>"
      ]
     },
     "execution_count": 4,
     "metadata": {},
     "output_type": "execute_result"
    }
   ],
   "source": [
    "# Metodos y atributos:\n",
    "# Atributos y métodos pueden ser accesibles desdel el comando #getattr\n",
    "a = 'a'\n",
    "getattr(a,'split')"
   ]
  },
  {
   "cell_type": "code",
   "execution_count": 5,
   "metadata": {},
   "outputs": [
    {
     "data": {
      "text/plain": [
       "True"
      ]
     },
     "execution_count": 5,
     "metadata": {},
     "output_type": "execute_result"
    }
   ],
   "source": [
    "# Para conocer si una variable es iterable podemos usar el siguiente método #isiterable\n",
    "def isiterable(obj):\n",
    "    try:\n",
    "        iter(obj)\n",
    "        return True\n",
    "    except TypeError: #not iterable\n",
    "        return False\n",
    "isiterable(a)"
   ]
  },
  {
   "cell_type": "code",
   "execution_count": 6,
   "metadata": {},
   "outputs": [
    {
     "name": "stdout",
     "output_type": "stream",
     "text": [
      "True\n",
      "True\n"
     ]
    }
   ],
   "source": [
    "# Para comprobar que dos referencias hacen referencia al mismo objeto usamos #is\n",
    "a= [1,2,3,4,5]\n",
    "b= a\n",
    "c= list(a)\n",
    "print(a is b) # devuelve true\n",
    "print(c is not a) # devuelve true\n"
   ]
  },
  {
   "cell_type": "code",
   "execution_count": 7,
   "metadata": {},
   "outputs": [
    {
     "name": "stdout",
     "output_type": "stream",
     "text": [
      "(4, 5, 6)\n",
      "((4, 5, 6), (7, 8))\n",
      "('s', 't', 'r', 'i', 'n', 'g')\n"
     ]
    },
    {
     "ename": "TypeError",
     "evalue": "'tuple' object does not support item assignment",
     "output_type": "error",
     "traceback": [
      "\u001b[0;31m---------------------------------------------------------------------------\u001b[0m",
      "\u001b[0;31mTypeError\u001b[0m                                 Traceback (most recent call last)",
      "\u001b[0;32m<ipython-input-7-c694c5c3e4f0>\u001b[0m in \u001b[0;36m<module>\u001b[0;34m\u001b[0m\n\u001b[1;32m     13\u001b[0m \u001b[0;31m### Propiedad de tuplas:Mientras que los objetos almacenados en una tupla pueden ser mutables (int <-> str)\u001b[0m\u001b[0;34m\u001b[0m\u001b[0;34m\u001b[0m\u001b[0;34m\u001b[0m\u001b[0m\n\u001b[1;32m     14\u001b[0m \u001b[0;31m### una vez creada la tupla los objetos almacenados no se pueden modificar en la tupla\u001b[0m\u001b[0;34m\u001b[0m\u001b[0;34m\u001b[0m\u001b[0;34m\u001b[0m\u001b[0m\n\u001b[0;32m---> 15\u001b[0;31m \u001b[0mtup\u001b[0m\u001b[0;34m[\u001b[0m\u001b[0;36m1\u001b[0m\u001b[0;34m]\u001b[0m\u001b[0;34m=\u001b[0m\u001b[0;34m'2'\u001b[0m \u001b[0;31m#da error\u001b[0m\u001b[0;34m\u001b[0m\u001b[0;34m\u001b[0m\u001b[0m\n\u001b[0m",
      "\u001b[0;31mTypeError\u001b[0m: 'tuple' object does not support item assignment"
     ]
    }
   ],
   "source": [
    "# Estructuras de datos y Secuencias\n",
    "\n",
    "# TUPLAS\n",
    "tup = 4,5,6\n",
    "print(tup)\n",
    "tupla_anidada = (4,5,6),(7,8)\n",
    "print(tupla_anidada)\n",
    "\n",
    "# También es posible convertir cualquier secuencia o iterador en una tupla llamando a #tuple()\n",
    "tup = tuple('string')\n",
    "print(tup)\n",
    "\n",
    "### Propiedad de tuplas:Mientras que los objetos almacenados en una tupla pueden ser mutables (int <-> str)\n",
    "### una vez creada la tupla los objetos almacenados no se pueden modificar en la tupla\n",
    "tup[1]='2' #da error \n"
   ]
  },
  {
   "cell_type": "code",
   "execution_count": null,
   "metadata": {},
   "outputs": [],
   "source": [
    "# Si un objeto dentro de una tupla es mutable como las listas, puedes modificarla\n",
    "tup = tuple(['foo',[2,3],True])\n",
    "tup[1].append(4)\n",
    "print(tup)"
   ]
  },
  {
   "cell_type": "code",
   "execution_count": null,
   "metadata": {},
   "outputs": [],
   "source": [
    "# Descomponiendo tuplas:\n",
    "tup = (1,2,3)\n",
    "a,b,c = tup\n",
    "print(\"a ->\", a); print(\"b ->\",b); print(\"c ->\",c);\n",
    "\n",
    "# Incluso secuencias de tuplas anidadas\n",
    "tupla = 4,5,(6,7)\n",
    "d,e,(f,g) = tupla\n",
    "print(\"d ->\", d); print(\"f ->\",f); print(\"g ->\",g)"
   ]
  },
  {
   "cell_type": "code",
   "execution_count": null,
   "metadata": {},
   "outputs": [],
   "source": [
    "# Un uso común de descomposición de variables es iterar sobre secuencias de tuplas o listas\n",
    "seq = [(1,2,3),(4,5,6),(7,8,9)]\n",
    "for a,b,c in seq:\n",
    "    print('a={0},b={1},c={2}'.format(a,b,c))"
   ]
  },
  {
   "cell_type": "code",
   "execution_count": null,
   "metadata": {},
   "outputs": [],
   "source": [
    "# LISTAS\n",
    "# En contraste con las tuplas, las listas son de longitud variable y su contenido puede ser modificado \n",
    "lista = [1,2,3]\n",
    "lista[1]=\"texto\"\n",
    "print(lista)"
   ]
  },
  {
   "cell_type": "code",
   "execution_count": null,
   "metadata": {},
   "outputs": [],
   "source": [
    "# La función lista es usada frecuentemente en procesamiento de datos en una forma de materializar un iterador\n",
    "# o generar una expresión\n",
    "gen = range (10)\n",
    "gen\n",
    "list(gen)"
   ]
  },
  {
   "cell_type": "code",
   "execution_count": null,
   "metadata": {},
   "outputs": [],
   "source": [
    "# Concatenando listas.La función extend es computacionalmente más rápida que hacer x = x+y\n",
    "x = [1,\"Vacio\",None]\n",
    "y = [3,4,5,\"fin\"]\n",
    "x.extend(y)\n",
    "print(x)"
   ]
  },
  {
   "cell_type": "code",
   "execution_count": null,
   "metadata": {},
   "outputs": [],
   "source": [
    "#Funciones de Secuencias Incorporadas"
   ]
  },
  {
   "cell_type": "code",
   "execution_count": null,
   "metadata": {},
   "outputs": [],
   "source": [
    "# Enumerate\n",
    "# Cuando iteramos sobre una coleccion aveces nos interesa almacenar el índice del item actual, #enumerate() nos\n",
    "# facilita esta operacion\n",
    "\n",
    "lista = ['foo', 'bar', 'baz']\n",
    "mapping = {}\n",
    "\n",
    "for i,v in enumerate(lista):\n",
    "    mapping[v] = i \n",
    "print(mapping)"
   ]
  },
  {
   "cell_type": "code",
   "execution_count": null,
   "metadata": {},
   "outputs": [],
   "source": [
    "# Sorted - Ordenacion\n",
    "# La función #sorted devuelve una lista ordenada de los elemenos de cualquier secuencia\n",
    "print(sorted([7,4,3,9,8,1,2,0]))\n",
    "\n",
    "print(sorted('caballo de carreras'))\n"
   ]
  },
  {
   "cell_type": "code",
   "execution_count": null,
   "metadata": {},
   "outputs": [],
   "source": [
    "# ZIP - empareja elementos de un numero de listas, tuplas o otras secuencias para crear una lista de tuplas\n",
    "secuencia1 = ['foo','bar','test']\n",
    "secuencia2 = ['uno', 'dos', 'tres']\n",
    "zipped = zip(secuencia1,secuencia2)\n",
    "print(list(zipped))\n",
    "\n",
    "# Un uso muy común de #zip es iterar simultaneamente sobre multiples secuencias, con posibilidad de combinarlo con \n",
    "# enumerate\n",
    "for i , (a,b) in enumerate(zip(secuencia1,secuencia2)):\n",
    "    print('{0}: {1}, {2}'.format(i,a,b))"
   ]
  },
  {
   "cell_type": "code",
   "execution_count": null,
   "metadata": {},
   "outputs": [],
   "source": [
    "# REVERSED itera sobre una secuencia de items en orden inverso\n",
    "list(reversed(range(0,10)))"
   ]
  },
  {
   "cell_type": "code",
   "execution_count": null,
   "metadata": {},
   "outputs": [],
   "source": [
    "# DICCIONARIOS\n",
    "dict = {'a':'valor de a','b':[1,2,3,4,5,6]}\n",
    "print(dict)\n",
    "\n",
    "# podemos acceder, insertar o asignar elementos usanndo sintaxis básica dict[pos]\n",
    "dict[7]='un entero'\n",
    "print(dict)\n",
    "print(dict['b'])\n",
    "\n",
    "# Comprobar si un diccionario tiene una clave usada\n",
    "print('b' in dict)\n",
    "\n",
    "# Para borrar valores podemos usar tanto el método #del como #pop \n",
    "dict[5] = ' valor'\n",
    "print(dict)\n",
    "dict['dummy'] = 'otro valor'\n",
    "print(dict)\n",
    "\n",
    "del(dict[5])\n",
    "print(dict)\n",
    "\n",
    "valor_eliminado = dict.pop('dummy')\n",
    "print('el valor eliminado es:', valor_eliminado)\n",
    "print(dict)\n",
    "\n",
    "# Para conocer las claves o los valores de un ciocconario disponemos de los métodos #dict y #values\n",
    "print(dict.keys())\n",
    "print(dict.values())\n",
    "\n",
    "# Combinar dos diccionarios usando el método #update\n",
    "dict.update({'b':'ya no es una lista de numeros','c':12})\n",
    "print(dict)"
   ]
  },
  {
   "cell_type": "code",
   "execution_count": null,
   "metadata": {},
   "outputs": [],
   "source": [
    "# Creando diccionarios desde una secuencias\n",
    "mapping = {}\n",
    "for key, value in zip(dict.keys(), dict.values()):\n",
    "    mapping[key] = value\n",
    "print(mapping)"
   ]
  },
  {
   "cell_type": "code",
   "execution_count": null,
   "metadata": {},
   "outputs": [],
   "source": [
    "# SET \n",
    "# Set es una colección desordenada de elementos únicos. Se pueden crear de dos formas\n",
    "# set soporta operaciones matemáticas como #union #intersection #difference operador | y &\n",
    "0\n",
    "# Forma 1:\n",
    "set([2,3,2,2,4,5,4,1,1])\n",
    "print(set([2,3,2,2,4,5,4,1,1]))\n",
    "\n",
    "# Forma 2:\n",
    "{2,3,4,5,7,1,2,4,2,3,2,5,5,6}\n",
    "print({2,3,4,5,7,1,2,4,2,3,2,5,5,6})"
   ]
  },
  {
   "cell_type": "code",
   "execution_count": null,
   "metadata": {},
   "outputs": [],
   "source": [
    "# Comprensiones en Listas Set y Diccionarios:\n",
    "# Permiten de manera concisa formar nuevas listas flintrando elementos de una coleccion, transformando los elementos a traves de un filtro de una concisa expresión\n",
    "\n",
    "\n",
    "# Para LISTAS su forma básica es:\n",
    "# [expresión for valor in colección if condición]\n",
    "\n",
    "# Siendo equivalente al siguiente trozo de código\n",
    "\n",
    "# result = []\n",
    "# for valor in colección:\n",
    "#   if condicion:\n",
    "#       result.append(expresion)\n",
    "\n",
    "strings = ['a','as','coche','moto','bicicleta','python']\n",
    "print(strings)\n",
    "\n",
    "compresion = [x.upper() for x in strings if len(x) >4]\n",
    "print('Comprensión en Lista:',compresion)\n",
    "\n",
    "# Para DICCIONARIOS y SET su forma básica es:\n",
    "# {key-expr : value-expr for value in collection if condition}\n",
    "\n",
    "longitudes = {len(x) for x in strings}\n",
    "print('Compresiones en diccionarios y sets: ',longitudes)\n",
    "\n",
    "\n",
    "\n"
   ]
  },
  {
   "cell_type": "code",
   "execution_count": null,
   "metadata": {},
   "outputs": [],
   "source": [
    "# Funciones\n",
    "# Básica:\n",
    "a=[]\n",
    "def func(): \n",
    "    b=[]\n",
    "    for i in range(5):\n",
    "        a.append(i)\n",
    "        b.append(i)\n",
    "    print('Muestro b dentro de mi funcion',b)\n",
    "func()\n",
    "print('Muestro a fuera de mi funcion',a)\n",
    "print('Muestro b fuera de mi funcion',b) #da error porque b esta inicializada dentro de la funcion"
   ]
  },
  {
   "cell_type": "code",
   "execution_count": null,
   "metadata": {},
   "outputs": [],
   "source": [
    "# Funciones\n",
    "# Retorno de varios valores\n",
    "def f():\n",
    "    a=1\n",
    "    b=2\n",
    "    c=3\n",
    "    return a,b,c\n",
    "\n",
    "#retornando los valores en variables por separadas\n",
    "a,b,c = f()\n",
    "print(a,b,c)\n",
    "\n",
    "#retornando los valores en una tupla\n",
    "tupla = f()\n",
    "print(tupla)\n",
    "\n",
    "#una alternativa a retornar los valores como una tupla, sería devolverlos como un diccionario\n",
    "def f1():\n",
    "    a=1\n",
    "    b=2\n",
    "    c=3\n",
    "    return {'a':a,'b':b,'c':c}\n",
    "tupla = f1()\n",
    "print(tupla)\n"
   ]
  },
  {
   "cell_type": "code",
   "execution_count": null,
   "metadata": {},
   "outputs": [],
   "source": [
    "# Las funciones como Objetos. una función puede ser usada como un objeto cuando se llama a otra función\n",
    "import re\n",
    "\n",
    "def elimina_signos(value):\n",
    "    return re.sub('[!#$+*1234567890?]','',value)\n",
    "\n",
    "clean_ops = [str.strip, elimina_signos, str.title]\n",
    "\n",
    "# Recorremos la lista de palabras y la lista de funciones, y en cada iteración de función\n",
    "# llamamos a la función correspondiente con cada palabra\n",
    "def clean_strings(strings, operaciones):\n",
    "    result = []\n",
    "    for value in strings:\n",
    "        for funcion in operaciones:\n",
    "            value = funcion(value)\n",
    "        result.append(value)\n",
    "    return result\n",
    "\n",
    "\n",
    "palabras = ['CasA1*','MotociCletA32','OrDen+ador']\n",
    "palabras_limpias = clean_strings(palabras,clean_ops)\n",
    "print(palabras_limpias)\n",
    "    "
   ]
  },
  {
   "cell_type": "code",
   "execution_count": null,
   "metadata": {},
   "outputs": [],
   "source": []
  }
 ],
 "metadata": {
  "kernelspec": {
   "display_name": "Python 3",
   "language": "python",
   "name": "python3"
  },
  "language_info": {
   "codemirror_mode": {
    "name": "ipython",
    "version": 3
   },
   "file_extension": ".py",
   "mimetype": "text/x-python",
   "name": "python",
   "nbconvert_exporter": "python",
   "pygments_lexer": "ipython3",
   "version": "3.7.4"
  }
 },
 "nbformat": 4,
 "nbformat_minor": 2
}
