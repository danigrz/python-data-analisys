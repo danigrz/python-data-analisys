{
 "cells": [
  {
   "cell_type": "code",
   "execution_count": 1,
   "metadata": {},
   "outputs": [],
   "source": [
    "# Apuntes para fortalecer conocimientos y aprender nuevos conocimientos de Análisis de Datos y Python en General"
   ]
  },
  {
   "cell_type": "code",
   "execution_count": 2,
   "metadata": {
    "scrolled": false
   },
   "outputs": [
    {
     "name": "stdout",
     "output_type": "stream",
     "text": [
      "a is <class 'float'>, b is <class 'int'>\n"
     ]
    },
    {
     "data": {
      "text/plain": [
       "1.35"
      ]
     },
     "execution_count": 2,
     "metadata": {},
     "output_type": "execute_result"
    }
   ],
   "source": [
    "# Formateando Strings\n",
    "a = 5.4\n",
    "b = 4\n",
    "print('a is {0}, b is {1}'.format(type(a),type(b)))\n",
    "a/b"
   ]
  },
  {
   "cell_type": "code",
   "execution_count": 3,
   "metadata": {},
   "outputs": [
    {
     "data": {
      "text/plain": [
       "False"
      ]
     },
     "execution_count": 3,
     "metadata": {},
     "output_type": "execute_result"
    }
   ],
   "source": [
    "# Conocer el type del objeto es muy importante, podemos usar para concerlo el metodo #isinstance()\n",
    "a = 5\n",
    "isinstance(a, int)\n",
    "\n",
    "# isistance puede aceptar una tupla de types por si quieres comprobar si esa tupla corresponde a un cierto tipo de valores\n",
    "a = 5; b = 4.5\n",
    "isinstance(a,(float,str))\n"
   ]
  },
  {
   "cell_type": "code",
   "execution_count": 4,
   "metadata": {},
   "outputs": [
    {
     "data": {
      "text/plain": [
       "<function str.split(sep=None, maxsplit=-1)>"
      ]
     },
     "execution_count": 4,
     "metadata": {},
     "output_type": "execute_result"
    }
   ],
   "source": [
    "# Metodos y atributos:\n",
    "# Atributos y métodos pueden ser accesibles desdel el comando #getattr\n",
    "a = 'a'\n",
    "getattr(a,'split')"
   ]
  },
  {
   "cell_type": "code",
   "execution_count": 5,
   "metadata": {},
   "outputs": [
    {
     "data": {
      "text/plain": [
       "True"
      ]
     },
     "execution_count": 5,
     "metadata": {},
     "output_type": "execute_result"
    }
   ],
   "source": [
    "# Para conocer si una variable es iterable podemos usar el siguiente método #isiterable\n",
    "def isiterable(obj):\n",
    "    try:\n",
    "        iter(obj)\n",
    "        return True\n",
    "    except TypeError: #not iterable\n",
    "        return False\n",
    "isiterable(a)"
   ]
  },
  {
   "cell_type": "code",
   "execution_count": 6,
   "metadata": {},
   "outputs": [
    {
     "name": "stdout",
     "output_type": "stream",
     "text": [
      "True\n",
      "True\n"
     ]
    }
   ],
   "source": [
    "# Para comprobar que dos referencias hacen referencia al mismo objeto usamos #is\n",
    "a= [1,2,3,4,5]\n",
    "b= a\n",
    "c= list(a)\n",
    "print(a is b) # devuelve true\n",
    "print(c is not a) # devuelve true\n"
   ]
  },
  {
   "cell_type": "code",
   "execution_count": 7,
   "metadata": {},
   "outputs": [
    {
     "name": "stdout",
     "output_type": "stream",
     "text": [
      "(4, 5, 6)\n",
      "((4, 5, 6), (7, 8))\n",
      "('s', 't', 'r', 'i', 'n', 'g')\n"
     ]
    },
    {
     "ename": "TypeError",
     "evalue": "'tuple' object does not support item assignment",
     "output_type": "error",
     "traceback": [
      "\u001b[0;31m---------------------------------------------------------------------------\u001b[0m",
      "\u001b[0;31mTypeError\u001b[0m                                 Traceback (most recent call last)",
      "\u001b[0;32m<ipython-input-7-bc2eb47abd94>\u001b[0m in \u001b[0;36m<module>\u001b[0;34m\u001b[0m\n\u001b[1;32m     12\u001b[0m \u001b[0;34m\u001b[0m\u001b[0m\n\u001b[1;32m     13\u001b[0m \u001b[0;31m### Propiedad de tuplas:Mientras que los objetos almacenados en una tupla pueden ser mutables (int <-> str). Una vez creada la tupla los objetos almacenados no se pueden modificar en la tupla\u001b[0m\u001b[0;34m\u001b[0m\u001b[0;34m\u001b[0m\u001b[0;34m\u001b[0m\u001b[0m\n\u001b[0;32m---> 14\u001b[0;31m \u001b[0mtup\u001b[0m\u001b[0;34m[\u001b[0m\u001b[0;36m1\u001b[0m\u001b[0;34m]\u001b[0m\u001b[0;34m=\u001b[0m\u001b[0;34m'2'\u001b[0m \u001b[0;31m#da error\u001b[0m\u001b[0;34m\u001b[0m\u001b[0;34m\u001b[0m\u001b[0m\n\u001b[0m",
      "\u001b[0;31mTypeError\u001b[0m: 'tuple' object does not support item assignment"
     ]
    }
   ],
   "source": [
    "# Estructuras de datos y Secuencias\n",
    "\n",
    "# TUPLAS\n",
    "tup = 4,5,6\n",
    "print(tup)\n",
    "tupla_anidada = (4,5,6),(7,8)\n",
    "print(tupla_anidada)\n",
    "\n",
    "# También es posible convertir cualquier secuencia o iterador en una tupla llamando a #tuple()\n",
    "tup = tuple('string')\n",
    "print(tup)\n",
    "\n",
    "### Propiedad de tuplas:Mientras que los objetos almacenados en una tupla pueden ser mutables (int <-> str). Una vez creada la tupla los objetos almacenados no se pueden modificar en la tupla\n",
    "tup[1]='2' #da error \n"
   ]
  },
  {
   "cell_type": "code",
   "execution_count": 8,
   "metadata": {},
   "outputs": [
    {
     "name": "stdout",
     "output_type": "stream",
     "text": [
      "('foo', [2, 3, 4], True)\n"
     ]
    }
   ],
   "source": [
    "# Si un objeto dentro de una tupla es mutable como las listas, puedes modificarla\n",
    "tup = tuple(['foo',[2,3],True])\n",
    "tup[1].append(4)\n",
    "print(tup)"
   ]
  },
  {
   "cell_type": "code",
   "execution_count": 9,
   "metadata": {},
   "outputs": [
    {
     "name": "stdout",
     "output_type": "stream",
     "text": [
      "a -> 1\n",
      "b -> 2\n",
      "c -> 3\n",
      "d -> 4\n",
      "f -> 6\n",
      "g -> 7\n"
     ]
    }
   ],
   "source": [
    "# Descomponiendo tuplas:\n",
    "tup = (1,2,3)\n",
    "a,b,c = tup\n",
    "print(\"a ->\", a); print(\"b ->\",b); print(\"c ->\",c);\n",
    "\n",
    "# Incluso secuencias de tuplas anidadas\n",
    "tupla = 4,5,(6,7)\n",
    "d,e,(f,g) = tupla\n",
    "print(\"d ->\", d); print(\"f ->\",f); print(\"g ->\",g)"
   ]
  },
  {
   "cell_type": "code",
   "execution_count": 10,
   "metadata": {},
   "outputs": [
    {
     "name": "stdout",
     "output_type": "stream",
     "text": [
      "a=1,b=2,c=3\n",
      "a=4,b=5,c=6\n",
      "a=7,b=8,c=9\n"
     ]
    }
   ],
   "source": [
    "# Un uso común de descomposición de variables es iterar sobre secuencias de tuplas o listas\n",
    "seq = [(1,2,3),(4,5,6),(7,8,9)]\n",
    "for a,b,c in seq:\n",
    "    print('a={0},b={1},c={2}'.format(a,b,c))"
   ]
  },
  {
   "cell_type": "code",
   "execution_count": 11,
   "metadata": {},
   "outputs": [
    {
     "name": "stdout",
     "output_type": "stream",
     "text": [
      "[1, 'texto', 3]\n"
     ]
    }
   ],
   "source": [
    "# LISTAS\n",
    "# En contraste con las tuplas, las listas son de longitud variable y su contenido puede ser modificado \n",
    "lista = [1,2,3]\n",
    "lista[1]=\"texto\"\n",
    "print(lista)"
   ]
  },
  {
   "cell_type": "code",
   "execution_count": 12,
   "metadata": {},
   "outputs": [
    {
     "data": {
      "text/plain": [
       "[0, 1, 2, 3, 4, 5, 6, 7, 8, 9]"
      ]
     },
     "execution_count": 12,
     "metadata": {},
     "output_type": "execute_result"
    }
   ],
   "source": [
    "# La función lista es usada frecuentemente en procesamiento de datos en una forma de materializar un iterador o generar una expresión\n",
    "gen = range (10)\n",
    "gen\n",
    "list(gen)"
   ]
  },
  {
   "cell_type": "code",
   "execution_count": 13,
   "metadata": {},
   "outputs": [
    {
     "name": "stdout",
     "output_type": "stream",
     "text": [
      "[1, 'Vacio', None, 3, 4, 5, 'fin']\n"
     ]
    }
   ],
   "source": [
    "# Concatenando listas.La función extend es computacionalmente más rápida que hacer x = x+y\n",
    "x = [1,\"Vacio\",None]\n",
    "y = [3,4,5,\"fin\"]\n",
    "x.extend(y)\n",
    "print(x)"
   ]
  },
  {
   "cell_type": "code",
   "execution_count": 14,
   "metadata": {},
   "outputs": [],
   "source": [
    "#Funciones de Secuencias Incorporadas"
   ]
  },
  {
   "cell_type": "code",
   "execution_count": 15,
   "metadata": {},
   "outputs": [
    {
     "name": "stdout",
     "output_type": "stream",
     "text": [
      "{'foo': 0, 'bar': 1, 'baz': 2}\n"
     ]
    }
   ],
   "source": [
    "# Enumerate\n",
    "# Cuando iteramos sobre una coleccion aveces nos interesa almacenar el índice del item actual, #enumerate() nos facilita esta operacion\n",
    "\n",
    "lista = ['foo', 'bar', 'baz']\n",
    "mapping = {}\n",
    "\n",
    "for i,v in enumerate(lista):\n",
    "    mapping[v] = i \n",
    "print(mapping)"
   ]
  },
  {
   "cell_type": "code",
   "execution_count": 16,
   "metadata": {},
   "outputs": [
    {
     "name": "stdout",
     "output_type": "stream",
     "text": [
      "[0, 1, 2, 3, 4, 7, 8, 9]\n",
      "[' ', ' ', 'a', 'a', 'a', 'a', 'b', 'c', 'c', 'd', 'e', 'e', 'l', 'l', 'o', 'r', 'r', 'r', 's']\n"
     ]
    }
   ],
   "source": [
    "# Sorted - Ordenacion\n",
    "# La función #sorted devuelve una lista ordenada de los elemenos de cualquier secuencia\n",
    "print(sorted([7,4,3,9,8,1,2,0]))\n",
    "\n",
    "print(sorted('caballo de carreras'))\n"
   ]
  },
  {
   "cell_type": "code",
   "execution_count": 17,
   "metadata": {},
   "outputs": [
    {
     "name": "stdout",
     "output_type": "stream",
     "text": [
      "[('foo', 'uno'), ('bar', 'dos'), ('test', 'tres')]\n",
      "0: foo, uno\n",
      "1: bar, dos\n",
      "2: test, tres\n"
     ]
    }
   ],
   "source": [
    "# ZIP - empareja elementos de un numero de listas, tuplas o otras secuencias para crear una lista de tuplas\n",
    "secuencia1 = ['foo','bar','test']\n",
    "secuencia2 = ['uno', 'dos', 'tres']\n",
    "zipped = zip(secuencia1,secuencia2)\n",
    "print(list(zipped))\n",
    "\n",
    "# Un uso muy común de #zip es iterar simultaneamente sobre multiples secuencias, con posibilidad de combinarlo con # enumerate\n",
    "for i , (a,b) in enumerate(zip(secuencia1,secuencia2)):\n",
    "    print('{0}: {1}, {2}'.format(i,a,b))"
   ]
  },
  {
   "cell_type": "code",
   "execution_count": 18,
   "metadata": {},
   "outputs": [
    {
     "data": {
      "text/plain": [
       "[9, 8, 7, 6, 5, 4, 3, 2, 1, 0]"
      ]
     },
     "execution_count": 18,
     "metadata": {},
     "output_type": "execute_result"
    }
   ],
   "source": [
    "# REVERSED itera sobre una secuencia de items en orden inverso\n",
    "list(reversed(range(0,10)))"
   ]
  },
  {
   "cell_type": "code",
   "execution_count": 19,
   "metadata": {},
   "outputs": [
    {
     "name": "stdout",
     "output_type": "stream",
     "text": [
      "{'a': 'valor de a', 'b': [1, 2, 3, 4, 5, 6]}\n",
      "{'a': 'valor de a', 'b': [1, 2, 3, 4, 5, 6], 7: 'un entero'}\n",
      "[1, 2, 3, 4, 5, 6]\n",
      "True\n",
      "{'a': 'valor de a', 'b': [1, 2, 3, 4, 5, 6], 7: 'un entero', 5: ' valor'}\n",
      "{'a': 'valor de a', 'b': [1, 2, 3, 4, 5, 6], 7: 'un entero', 5: ' valor', 'dummy': 'otro valor'}\n",
      "{'a': 'valor de a', 'b': [1, 2, 3, 4, 5, 6], 7: 'un entero', 'dummy': 'otro valor'}\n",
      "el valor eliminado es: otro valor\n",
      "{'a': 'valor de a', 'b': [1, 2, 3, 4, 5, 6], 7: 'un entero'}\n",
      "dict_keys(['a', 'b', 7])\n",
      "dict_values(['valor de a', [1, 2, 3, 4, 5, 6], 'un entero'])\n",
      "{'a': 'valor de a', 'b': 'ya no es una lista de numeros', 7: 'un entero', 'c': 12}\n"
     ]
    }
   ],
   "source": [
    "# DICCIONARIOS\n",
    "dict = {'a':'valor de a','b':[1,2,3,4,5,6]}\n",
    "print(dict)\n",
    "\n",
    "# podemos acceder, insertar o asignar elementos usanndo sintaxis básica dict[pos]\n",
    "dict[7]='un entero'\n",
    "print(dict)\n",
    "print(dict['b'])\n",
    "\n",
    "# Comprobar si un diccionario tiene una clave usada\n",
    "print('b' in dict)\n",
    "\n",
    "# Para borrar valores podemos usar tanto el método #del como #pop \n",
    "dict[5] = ' valor'\n",
    "print(dict)\n",
    "dict['dummy'] = 'otro valor'\n",
    "print(dict)\n",
    "\n",
    "del(dict[5])\n",
    "print(dict)\n",
    "\n",
    "valor_eliminado = dict.pop('dummy')\n",
    "print('el valor eliminado es:', valor_eliminado)\n",
    "print(dict)\n",
    "\n",
    "# Para conocer las claves o los valores de un ciocconario disponemos de los métodos #dict y #values\n",
    "print(dict.keys())\n",
    "print(dict.values())\n",
    "\n",
    "# Combinar dos diccionarios usando el método #update\n",
    "dict.update({'b':'ya no es una lista de numeros','c':12})\n",
    "print(dict)"
   ]
  },
  {
   "cell_type": "code",
   "execution_count": 20,
   "metadata": {},
   "outputs": [
    {
     "name": "stdout",
     "output_type": "stream",
     "text": [
      "{'a': 'valor de a', 'b': 'ya no es una lista de numeros', 7: 'un entero', 'c': 12}\n"
     ]
    }
   ],
   "source": [
    "# Creando diccionarios desde una secuencias\n",
    "mapping = {}\n",
    "for key, value in zip(dict.keys(), dict.values()):\n",
    "    mapping[key] = value\n",
    "print(mapping)"
   ]
  },
  {
   "cell_type": "code",
   "execution_count": 21,
   "metadata": {},
   "outputs": [
    {
     "name": "stdout",
     "output_type": "stream",
     "text": [
      "{1, 2, 3, 4, 5}\n",
      "{1, 2, 3, 4, 5, 6, 7}\n"
     ]
    }
   ],
   "source": [
    "# SET \n",
    "# Set es una colección desordenada de elementos únicos. Se pueden crear de dos formas. Set soporta operaciones matemáticas como #union #intersection #difference operador | y &\n",
    "# Forma 1:\n",
    "set([2,3,2,2,4,5,4,1,1])\n",
    "print(set([2,3,2,2,4,5,4,1,1]))\n",
    "\n",
    "# Forma 2:\n",
    "{2,3,4,5,7,1,2,4,2,3,2,5,5,6}\n",
    "print({2,3,4,5,7,1,2,4,2,3,2,5,5,6})"
   ]
  },
  {
   "cell_type": "code",
   "execution_count": 22,
   "metadata": {},
   "outputs": [
    {
     "name": "stdout",
     "output_type": "stream",
     "text": [
      "['a', 'as', 'coche', 'moto', 'bicicleta', 'python']\n",
      "Comprensión en Lista: ['COCHE', 'BICICLETA', 'PYTHON']\n",
      "Compresiones en diccionarios y sets:  {1, 2, 4, 5, 6, 9}\n"
     ]
    }
   ],
   "source": [
    "# Comprensiones en Listas Set y Diccionarios:\n",
    "# Permiten de manera concisa formar nuevas listas flintrando elementos de una coleccion, transformando los elementos a traves de un filtro de una concisa expresión\n",
    "\n",
    "\n",
    "# Para LISTAS su forma básica es: [expresión for valor in colección if condición]\n",
    "# Siendo equivalente al siguiente trozo de código\n",
    "\n",
    "# result = []\n",
    "# for valor in colección:\n",
    "#   if condicion:\n",
    "#       result.append(expresion)\n",
    "\n",
    "strings = ['a','as','coche','moto','bicicleta','python']\n",
    "print(strings)\n",
    "\n",
    "compresion = [x.upper() for x in strings if len(x) >4]\n",
    "print('Comprensión en Lista:',compresion)\n",
    "\n",
    "# Para DICCIONARIOS y SET su forma básica es:\n",
    "# {key-expr : value-expr for value in collection if condition}\n",
    "\n",
    "longitudes = {len(x) for x in strings}\n",
    "print('Compresiones en diccionarios y sets: ',longitudes)\n",
    "\n",
    "\n",
    "\n"
   ]
  },
  {
   "cell_type": "code",
   "execution_count": 23,
   "metadata": {},
   "outputs": [
    {
     "name": "stdout",
     "output_type": "stream",
     "text": [
      "Muestro b dentro de mi función [0, 1, 2, 3, 4]\n",
      "Muestro a fuera de mi función [0, 1, 2, 3, 4]\n",
      "Muestro b fuera de mi función tres\n"
     ]
    }
   ],
   "source": [
    "# Funciones\n",
    "# Básica:\n",
    "a=[]\n",
    "def func(): \n",
    "    b=[]\n",
    "    for i in range(5):\n",
    "        a.append(i)\n",
    "        b.append(i)\n",
    "    print('Muestro b dentro de mi función',b)\n",
    "func()\n",
    "print('Muestro a fuera de mi función',a)\n",
    "print('Muestro b fuera de mi función',b) #da error porque b esta inicializada dentro de la funcion"
   ]
  },
  {
   "cell_type": "code",
   "execution_count": 24,
   "metadata": {},
   "outputs": [
    {
     "name": "stdout",
     "output_type": "stream",
     "text": [
      "1 2 3\n",
      "(1, 2, 3)\n",
      "{'a': 1, 'b': 2, 'c': 3}\n"
     ]
    }
   ],
   "source": [
    "# Funciones\n",
    "# Retorno de varios valores\n",
    "def f():\n",
    "    a=1\n",
    "    b=2\n",
    "    c=3\n",
    "    return a,b,c\n",
    "\n",
    "#retornando los valores en variables por separadas\n",
    "a,b,c = f()\n",
    "print(a,b,c)\n",
    "\n",
    "#retornando los valores en una tupla\n",
    "tupla = f()\n",
    "print(tupla)\n",
    "\n",
    "#una alternativa a retornar los valores como una tupla, sería devolverlos como un diccionario\n",
    "def f1():\n",
    "    a=1\n",
    "    b=2\n",
    "    c=3\n",
    "    return {'a':a,'b':b,'c':c}\n",
    "tupla = f1()\n",
    "print(tupla)\n"
   ]
  },
  {
   "cell_type": "code",
   "execution_count": 25,
   "metadata": {},
   "outputs": [
    {
     "name": "stdout",
     "output_type": "stream",
     "text": [
      "['Casa', 'Motocicleta', 'Ordenador']\n"
     ]
    }
   ],
   "source": [
    "# Las funciones como Objetos. una función puede ser usada como un objeto cuando se llama a otra función\n",
    "import re\n",
    "\n",
    "def elimina_signos(value):\n",
    "    return re.sub('[!#$+*1234567890?]','',value)\n",
    "\n",
    "clean_ops = [str.strip, elimina_signos, str.title]\n",
    "\n",
    "# Recorremos la lista de palabras y la lista de funciones, y en cada iteración de función llamamos a la función correspondiente con cada palabra\n",
    "def clean_strings(strings, operaciones):\n",
    "    result = []\n",
    "    for value in strings:\n",
    "        for funcion in operaciones:\n",
    "            value = funcion(value)\n",
    "        result.append(value)\n",
    "    return result\n",
    "\n",
    "\n",
    "palabras = ['CasA1*','MotociCletA32','OrDen+ador']\n",
    "palabras_limpias = clean_strings(palabras,clean_ops)\n",
    "print(palabras_limpias)\n",
    "    "
   ]
  },
  {
   "cell_type": "code",
   "execution_count": 26,
   "metadata": {},
   "outputs": [
    {
     "name": "stdout",
     "output_type": "stream",
     "text": [
      "Valor de funcion_equivalente(2): 4\n",
      "['aaa', 'foo', 'abab', 'bar', 'car', 'card']\n"
     ]
    }
   ],
   "source": [
    "# FUNCIONES ANONIMAS O LAMBDA\n",
    "\n",
    "# Son aquellas funciones que sólo tienen una sola línea el cual es el resultado de un valor.\n",
    "def funcion_corta(x):\n",
    "    return x*2\n",
    "\n",
    "funcion_equivalente = lambda x: x*2\n",
    "print('Valor de funcion_equivalente(2):',funcion_equivalente(2))\n",
    "\n",
    "\n",
    "strings = ['foo','bar','aaa','card','abab','car']\n",
    "# Ordenar una coleccion de strings por el numero de letras distintas en cada string\n",
    "strings.sort(key = lambda x: len(set(list(x))))\n",
    "print(strings)"
   ]
  },
  {
   "cell_type": "code",
   "execution_count": 27,
   "metadata": {},
   "outputs": [
    {
     "name": "stdout",
     "output_type": "stream",
     "text": [
      "Aún no se han requerido del contenido del generador <generator object squares at 0x7f0dc00871d0>\n",
      "Generando cuadrados desde 1 hasta 100\n",
      "1 4 9 16 25 36 49 64 81 100 "
     ]
    }
   ],
   "source": [
    "# GENERADORES E ITERADORES\n",
    "# un generador es una manera concisa de cosntruir un nuevo objeto irerable. Este objeto iterable se genera de forma perezosa mediante la palabra reservada #yield que viene ser el símil de return para los generadores. Hasta que no pidamos los elementos del generador, este no se ejecuta\n",
    "\n",
    "def squares(n=10):\n",
    "    print('Generando cuadrados desde 1 hasta {0}'.format(n**2))\n",
    "    for i in range(1, n+1):\n",
    "        yield i**2\n",
    "\n",
    "gen = squares()\n",
    "print('Aún no se han requerido del contenido del generador',gen)\n",
    "\n",
    "for x in gen:\n",
    "    print(x, end=' ')\n"
   ]
  },
  {
   "cell_type": "code",
   "execution_count": 28,
   "metadata": {
    "scrolled": true
   },
   "outputs": [
    {
     "name": "stdout",
     "output_type": "stream",
     "text": [
      "Mostramos el tipo de error a\n",
      "No mostramos el tipo de error 0\n",
      "Ha fallado\n"
     ]
    },
    {
     "ename": "ValueError",
     "evalue": "could not convert string to float: 'a'",
     "output_type": "error",
     "traceback": [
      "\u001b[0;31m---------------------------------------------------------------------------\u001b[0m",
      "\u001b[0;31mValueError\u001b[0m                                Traceback (most recent call last)",
      "\u001b[0;32m<ipython-input-28-b2af763cdd12>\u001b[0m in \u001b[0;36m<module>\u001b[0;34m\u001b[0m\n\u001b[1;32m     29\u001b[0m     \u001b[0;32mfinally\u001b[0m\u001b[0;34m:\u001b[0m\u001b[0;34m\u001b[0m\u001b[0;34m\u001b[0m\u001b[0m\n\u001b[1;32m     30\u001b[0m         \u001b[0;32mreturn\u001b[0m \u001b[0mfloat\u001b[0m\u001b[0;34m(\u001b[0m\u001b[0mx\u001b[0m\u001b[0;34m)\u001b[0m\u001b[0;34m\u001b[0m\u001b[0;34m\u001b[0m\u001b[0m\n\u001b[0;32m---> 31\u001b[0;31m \u001b[0mprint\u001b[0m\u001b[0;34m(\u001b[0m\u001b[0;34m'El valor obtenido es: '\u001b[0m\u001b[0;34m,\u001b[0m \u001b[0mattempt_float2\u001b[0m\u001b[0;34m(\u001b[0m\u001b[0;34m'a'\u001b[0m\u001b[0;34m)\u001b[0m\u001b[0;34m)\u001b[0m\u001b[0;34m\u001b[0m\u001b[0;34m\u001b[0m\u001b[0m\n\u001b[0m",
      "\u001b[0;32m<ipython-input-28-b2af763cdd12>\u001b[0m in \u001b[0;36mattempt_float2\u001b[0;34m(x)\u001b[0m\n\u001b[1;32m     28\u001b[0m         \u001b[0mprint\u001b[0m\u001b[0;34m(\u001b[0m\u001b[0;34m'Ha funcionado correctamente'\u001b[0m\u001b[0;34m)\u001b[0m\u001b[0;34m\u001b[0m\u001b[0;34m\u001b[0m\u001b[0m\n\u001b[1;32m     29\u001b[0m     \u001b[0;32mfinally\u001b[0m\u001b[0;34m:\u001b[0m\u001b[0;34m\u001b[0m\u001b[0;34m\u001b[0m\u001b[0m\n\u001b[0;32m---> 30\u001b[0;31m         \u001b[0;32mreturn\u001b[0m \u001b[0mfloat\u001b[0m\u001b[0;34m(\u001b[0m\u001b[0mx\u001b[0m\u001b[0;34m)\u001b[0m\u001b[0;34m\u001b[0m\u001b[0;34m\u001b[0m\u001b[0m\n\u001b[0m\u001b[1;32m     31\u001b[0m \u001b[0mprint\u001b[0m\u001b[0;34m(\u001b[0m\u001b[0;34m'El valor obtenido es: '\u001b[0m\u001b[0;34m,\u001b[0m \u001b[0mattempt_float2\u001b[0m\u001b[0;34m(\u001b[0m\u001b[0;34m'a'\u001b[0m\u001b[0;34m)\u001b[0m\u001b[0;34m)\u001b[0m\u001b[0;34m\u001b[0m\u001b[0;34m\u001b[0m\u001b[0m\n",
      "\u001b[0;31mValueError\u001b[0m: could not convert string to float: 'a'"
     ]
    }
   ],
   "source": [
    "# MANEJO DE ERRORES Y EXCEPCIONES\n",
    "#Vamos a ver tres ejemplos básicos según que mensajes quueremos mostrar/omitir\n",
    "\n",
    "#Mostramos el error que da\n",
    "def attempt_float(x):\n",
    "    try:\n",
    "        return float(x)\n",
    "    except (TypeError, ValueError):\n",
    "        return x\n",
    "print('Mostramos el tipo de error', attempt_float('a'))\n",
    "\n",
    "#No mostramos el error, forzamos la salida de error a que devuelva 0\n",
    "def attempt_float1(x):\n",
    "    try:\n",
    "        return float(x)\n",
    "    finally:\n",
    "        return 0\n",
    "print('No mostramos el tipo de error', attempt_float1('a'))\n",
    "\n",
    "#Mostramos todas las posibilidades\n",
    "def attempt_float2(x):\n",
    "    try:\n",
    "        print(float(x))\n",
    "        \n",
    "    except:\n",
    "        print('Ha fallado')\n",
    "    else:\n",
    "        print('Ha funcionado correctamente')\n",
    "    finally:\n",
    "        return float(x)\n",
    "print('El valor obtenido es: ', attempt_float2('a'))"
   ]
  },
  {
   "cell_type": "code",
   "execution_count": 29,
   "metadata": {},
   "outputs": [],
   "source": [
    "# ARCHIVOS Y SISTEMA OPERATIVO\n",
    "# Archivos de texto. Para abrir archivos de texto plano usamos el metodo #open y para cerrarlos #close\n",
    "\n",
    "# filepath = '/home/user/test.txt'\n",
    "# result = 0\n",
    "# with open(filepath,'r') as file:\n",
    "#     line = file.readline()\n",
    "#     while line:\n",
    "#         if 'text' in line:\n",
    "#             result = 1\n",
    "#             line = file.readline()\n",
    "#     return result\n",
    "#     file.close()\n",
    " "
   ]
  }
 ],
 "metadata": {
  "kernelspec": {
   "display_name": "Python 3",
   "language": "python",
   "name": "python3"
  },
  "language_info": {
   "codemirror_mode": {
    "name": "ipython",
    "version": 3
   },
   "file_extension": ".py",
   "mimetype": "text/x-python",
   "name": "python",
   "nbconvert_exporter": "python",
   "pygments_lexer": "ipython3",
   "version": "3.7.4"
  }
 },
 "nbformat": 4,
 "nbformat_minor": 2
}
